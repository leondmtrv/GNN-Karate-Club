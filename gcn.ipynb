{
 "cells": [
  {
   "cell_type": "code",
   "execution_count": 15,
   "metadata": {},
   "outputs": [
    {
     "name": "stdout",
     "output_type": "stream",
     "text": [
      "torch.Size([34, 34])\n",
      "Data(x=[34, 34], edge_index=[2, 156], y=[34], train_mask=[34])\n"
     ]
    }
   ],
   "source": [
    "import torch\n",
    "import numpy as np\n",
    "import networkx as nx\n",
    "import matplotlib.pyplot as plt\n",
    "\n",
    "from torch_geometric.datasets import KarateClub\n",
    "\n",
    "dataset = KarateClub()\n",
    "\n",
    "data = dataset[0]  # Get the first graph object.\n",
    "print(data.x.shape)\n",
    "print(data)"
   ]
  },
  {
   "cell_type": "markdown",
   "metadata": {},
   "source": [
    "This code defines a Graph Convolutional Network (GCN) using PyTorch Geometric. It consists of a graph convolution layer (GCNConv) that processes node features based on graph structure, followed by a fully connected (Linear) layer for classification."
   ]
  },
  {
   "cell_type": "code",
   "execution_count": 16,
   "metadata": {},
   "outputs": [],
   "source": [
    "from torch.nn import Linear\n",
    "from torch_geometric.nn import GCNConv\n",
    "\n",
    "class GCN(torch.nn.Module):\n",
    "    def __init__(self):\n",
    "        super().__init__()\n",
    "        self.gcn = GCNConv(dataset.num_features, 3)\n",
    "        self.out = Linear(3, dataset.num_classes)\n",
    "\n",
    "    def forward(self, x, edge_index):\n",
    "        h = self.gcn.forward(x,edge_index).relu()\n",
    "        z = self.out.forward(h)\n",
    "        return h, z"
   ]
  },
  {
   "cell_type": "markdown",
   "metadata": {},
   "source": [
    "This code implements the training loop for a Graph Convolutional Network (GCN), optimizing it using cross-entropy loss and the Adam optimizer. During each epoch, the model performs a forward pass, computes the loss and accuracy, updates parameters using backpropagation, and stores embeddings, losses, and predictions for analysis."
   ]
  },
  {
   "cell_type": "code",
   "execution_count": 19,
   "metadata": {},
   "outputs": [
    {
     "name": "stdout",
     "output_type": "stream",
     "text": [
      "GCN(\n",
      "  (gcn): GCNConv(34, 3)\n",
      "  (out): Linear(in_features=3, out_features=4, bias=True)\n",
      ")\n",
      "Epoch 0, Loss 1.3743200302124023\n",
      "Epoch 10, Loss 1.3137054443359375\n",
      "Epoch 20, Loss 1.255401611328125\n",
      "Epoch 30, Loss 1.1938754320144653\n",
      "Epoch 40, Loss 1.1278448104858398\n",
      "Epoch 50, Loss 1.0522974729537964\n",
      "Epoch 60, Loss 0.9466291069984436\n",
      "Epoch 70, Loss 0.8156130313873291\n",
      "Epoch 80, Loss 0.691918671131134\n",
      "Epoch 90, Loss 0.588395893573761\n",
      "Epoch 100, Loss 0.5068764090538025\n",
      "Epoch 110, Loss 0.4448983669281006\n",
      "Epoch 120, Loss 0.3979796767234802\n",
      "Epoch 130, Loss 0.36184149980545044\n",
      "Epoch 140, Loss 0.3326040208339691\n",
      "Epoch 150, Loss 0.30815961956977844\n",
      "Epoch 160, Loss 0.28695911169052124\n",
      "Epoch 170, Loss 0.2680508494377136\n",
      "Epoch 180, Loss 0.2510685324668884\n",
      "Epoch 190, Loss 0.23542404174804688\n",
      "Epoch 200, Loss 0.22079217433929443\n",
      "Epoch 210, Loss 0.2068587839603424\n",
      "Epoch 220, Loss 0.19322995841503143\n",
      "Epoch 230, Loss 0.1796860247850418\n",
      "Epoch 240, Loss 0.1662464290857315\n",
      "Epoch 250, Loss 0.1527620553970337\n",
      "Epoch 260, Loss 0.1391025334596634\n",
      "Epoch 270, Loss 0.12562048435211182\n",
      "Epoch 280, Loss 0.11249959468841553\n",
      "Epoch 290, Loss 0.10016345232725143\n"
     ]
    }
   ],
   "source": [
    "model = GCN()\n",
    "print(model)\n",
    "\n",
    "critereon = torch.nn.CrossEntropyLoss()\n",
    "optimizer = torch.optim.Adam(model.parameters(), lr=0.01)\n",
    "\n",
    "losses = []\n",
    "embeddings = []\n",
    "accuracies = []\n",
    "outputs = []\n",
    "\n",
    "# Calculate accuracy\n",
    "def accuracy(pred_y, y):\n",
    "    return (pred_y == y).sum() / len(y)\n",
    "\n",
    "for epoch in range(300):\n",
    "    \n",
    "    optimizer.zero_grad()\n",
    "    h,z = model(data.x, data.edge_index)\n",
    "    loss = critereon.forward(z, data.y)\n",
    "\n",
    "    loss.backward()\n",
    "\n",
    "    optimizer.step()\n",
    "\n",
    "    embeddings.append(h)\n",
    "    outputs.append(z)\n",
    "    accuracies.append(accuracy(z.argmax(dim=1), data.y))\n",
    "    losses.append(loss.item())\n",
    "\n",
    "    if epoch % 10 == 0:\n",
    "        print(f'Epoch {epoch}, Loss {loss.item()}')"
   ]
  },
  {
   "cell_type": "code",
   "execution_count": null,
   "metadata": {},
   "outputs": [
    {
     "name": "stdout",
     "output_type": "stream",
     "text": [
      "Final embedding shape: torch.Size([34, 3])\n",
      "tensor([[-2.5098,  3.8000, -5.5853, -1.6394],\n",
      "        [-3.0547,  5.8089, -8.4287, -3.4921],\n",
      "        [-0.9497,  3.4924, -5.8904, -4.7216],\n",
      "        [-2.6197,  5.1946, -7.6938, -3.5373],\n",
      "        [-1.3203, -0.5473,  0.5628,  2.3463],\n",
      "        [-1.2873, -0.6679,  0.7333,  2.4569],\n",
      "        [-1.2711, -0.7269,  0.8168,  2.5110],\n",
      "        [-1.4883,  3.7743, -6.0576, -3.9281],\n",
      "        [ 3.0579, -1.0406, -0.8672, -6.8731],\n",
      "        [-0.5075,  3.0681, -5.4539, -5.0759],\n",
      "        [-1.3194, -0.5505,  0.5673,  2.3493],\n",
      "        [-1.4268,  3.3707, -5.4622, -3.4465],\n",
      "        [-1.7390,  3.5268, -5.5479, -2.9754],\n",
      "        [-0.9555,  3.2057, -5.4427, -4.2667],\n",
      "        [ 3.5526, -1.7742,  0.0228, -6.8704],\n",
      "        [ 3.6602, -1.8224,  0.0437, -7.0414],\n",
      "        [-1.3038, -0.6074,  0.6478,  2.4014],\n",
      "        [-1.6642,  3.6079, -5.7113, -3.2710],\n",
      "        [ 3.6431, -1.8146,  0.0400, -7.0146],\n",
      "        [-0.8354,  2.8712, -4.9840, -4.0251],\n",
      "        [ 3.3390, -1.6543, -0.0561, -6.5684],\n",
      "        [-1.5178,  3.3511, -5.3863, -3.2089],\n",
      "        [ 3.3819, -1.6984, -0.0093, -6.5982],\n",
      "        [ 3.6672, -1.9966,  0.3103, -6.7891],\n",
      "        [ 1.1749, -2.4503,  2.2640, -0.4093],\n",
      "        [ 1.2000, -2.4680,  2.2788, -0.4393],\n",
      "        [ 3.4792, -1.2162, -0.8061, -7.5628],\n",
      "        [ 2.9442, -1.6642,  0.1572, -5.6531],\n",
      "        [ 1.0804, -2.3837,  2.2081, -0.2965],\n",
      "        [ 4.3051, -2.0878,  0.1320, -8.1025],\n",
      "        [ 3.1591, -1.1339, -0.7732, -6.9598],\n",
      "        [ 0.9001, -2.2567,  2.1014, -0.0812],\n",
      "        [ 5.9711, -3.9697,  2.2162, -9.0009],\n",
      "        [ 4.1577, -1.8374, -0.1827, -8.1525]], grad_fn=<AddmmBackward0>)\n"
     ]
    }
   ],
   "source": [
    "print(f'Final embedding shape: {h.shape}')\n",
    "print(h)\n",
    "print(f'Final output shape: {z.shape}')\n",
    "print(z)"
   ]
  }
 ],
 "metadata": {
  "kernelspec": {
   "display_name": "env",
   "language": "python",
   "name": "python3"
  },
  "language_info": {
   "codemirror_mode": {
    "name": "ipython",
    "version": 3
   },
   "file_extension": ".py",
   "mimetype": "text/x-python",
   "name": "python",
   "nbconvert_exporter": "python",
   "pygments_lexer": "ipython3",
   "version": "3.13.2"
  }
 },
 "nbformat": 4,
 "nbformat_minor": 2
}
